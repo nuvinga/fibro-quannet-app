{
 "metadata": {
  "kernelspec": {
   "language": "python",
   "display_name": "Python 3",
   "name": "python3"
  },
  "language_info": {
   "name": "python",
   "version": "3.7.6",
   "mimetype": "text/x-python",
   "codemirror_mode": {
    "name": "ipython",
    "version": 3
   },
   "pygments_lexer": "ipython3",
   "nbconvert_exporter": "python",
   "file_extension": ".py"
  }
 },
 "nbformat_minor": 4,
 "nbformat": 4,
 "cells": [
  {
   "cell_type": "markdown",
   "source": [
    "# Fibro-QuanNet NoteBook\n",
    "Developed by: Nuvin Godakanda Arachchi\n"
   ],
   "metadata": {}
  },
  {
   "cell_type": "code",
   "source": [
    "import copy\n",
    "import numpy as np\n",
    "import pandas as pd\n",
    "import matplotlib.pyplot as plt\n",
    "import pickle\n",
    "import pydicom\n",
    "import torch\n",
    "import torch.nn as nn\n",
    "import torch.nn.functional as F\n",
    "import warnings\n",
    "import pytest\n",
    "import qiskit\n",
    "from qiskit import transpile, assemble\n",
    "from qiskit.visualization import *\n",
    "import pennylane as qml\n",
    "import math\n",
    "import sklearn.metrics\n",
    "\n",
    "from datetime import datetime, timedelta\n",
    "from matplotlib import cm\n",
    "from pathlib import Path\n",
    "from sklearn.model_selection import GroupShuffleSplit\n",
    "from torch.utils.data import Dataset\n",
    "from tqdm import tqdm\n",
    "from torch.utils.data import DataLoader, Subset\n",
    "from tqdm import trange\n",
    "from time import time\n",
    "from scipy.ndimage.interpolation import zoom\n",
    "from enum import Enum\n",
    "from torchvision import transforms\n",
    "from skimage.measure import label, regionprops\n",
    "from skimage.segmentation import clear_border\n",
    "\n",
    "# Constants\n",
    "n_qubits = 4\n",
    "test_size=0.2\n",
    "batch_size = 32\n",
    "learning_rate = 1e-3\n",
    "num_epochs = 30\n",
    "quantiles = (0.2, 0.5, 0.8)\n",
    "q_depth = 6\n",
    "\n",
    "dev = qml.device(\"default.qubit\", wires=n_qubits)\n",
    "model_name ='prediction-model'\n",
    "dataset = Path('osic-pulmonary-fibrosis-progression')\n",
    "modelDirectory = Path('models')\n",
    "dicom_encoder_weights = Path('dicom-utilities')/'dicom_encoder.pth'\n",
    "cache_dataset = Path('osic-cached-dataset')\n",
    "latent_dir = Path('latent')\n",
    "latent_dir.mkdir(exist_ok=True, parents=True)\n",
    "device = torch.device(\"cuda:0\" if torch.cuda.is_available() else \"cpu\")"
   ],
   "metadata": {
    "_uuid": "8f2839f25d086af736a60e9eeb907d3b93b6e0e5",
    "_cell_guid": "b1076dfc-b9ad-4769-8c92-a6c4dae69d19",
    "execution": {
     "iopub.status.busy": "2023-05-08T18:34:19.845692Z",
     "iopub.execute_input": "2023-05-08T18:34:19.846210Z",
     "iopub.status.idle": "2023-05-08T18:34:23.881011Z",
     "shell.execute_reply.started": "2023-05-08T18:34:19.846166Z",
     "shell.execute_reply": "2023-05-08T18:34:23.880103Z"
    },
    "trusted": true
   },
   "execution_count": 113,
   "outputs": [
    {
     "name": "stderr",
     "output_type": "stream",
     "text": [
      "/var/folders/cv/02cll88d62506wtjxbvtw63h0000gn/T/ipykernel_72070/2434529649.py:28: DeprecationWarning: Please use `zoom` from the `scipy.ndimage` namespace, the `scipy.ndimage.interpolation` namespace is deprecated.\n",
      "  from scipy.ndimage.interpolation import zoom\n"
     ]
    }
   ]
  },
  {
   "cell_type": "markdown",
   "source": [
    "## DICOM and tabular pre-processing"
   ],
   "metadata": {}
  },
  {
   "cell_type": "code",
   "source": [
    "class OSICDataset(Dataset):\n",
    "\n",
    "    def __init__(self, root, dicom_dir, mode, transform=None, cache_dir=None):\n",
    "\n",
    "        self.transform = transform\n",
    "        self.mode = mode\n",
    "        self.dicom_dir = Path(dicom_dir)\n",
    "        self.cache_dir = None if cache_dir is None else Path(cache_dataset)\n",
    "\n",
    "        if cache_dir is not None:   # Utilize pre-processed data if cache available\n",
    "            self.raw = pd.read_csv(self.cache_dir/f'tabular_{mode}.csv')\n",
    "            with open(self.cache_dir/'features_list.pkl', \"rb\") as fp:\n",
    "                self.FE = pickle.load(fp)\n",
    "            return\n",
    "\n",
    "        # If cache data is not available, proceed to pre-process\n",
    "        training_data = pd.read_csv(Path(root)/\"train.csv\")\n",
    "        training_data.drop_duplicates(keep=False, inplace=True, subset=['Patient', 'Weeks'])\n",
    "\n",
    "        # Reading submission\n",
    "        sub = pd.read_csv(Path(root)/\"sample_submission.csv\")\n",
    "        sub['Patient'] = sub['Patient_Week'].apply(lambda x: x.split('_')[0])\n",
    "        sub['Weeks'] = sub['Patient_Week'].apply(lambda x: int(x.split('_')[-1]))\n",
    "        sub = sub[['Patient', 'Weeks', 'Confidence', 'Patient_Week']]\n",
    "\n",
    "        chunk = pd.read_csv(Path(root)/\"test.csv\")\n",
    "        sub = sub.merge(chunk.drop('Weeks', axis=1), on=\"Patient\")\n",
    "\n",
    "        training_data['WHERE'] = 'train'\n",
    "        chunk['WHERE'] = 'val'\n",
    "        sub['WHERE'] = 'test'\n",
    "        data = training_data.append([chunk, sub])\n",
    "\n",
    "        data['min_week'] = data['Weeks']\n",
    "        data.loc[data.WHERE == 'test', 'min_week'] = np.nan\n",
    "        data['min_week'] = data.groupby('Patient')['min_week'].transform('min')\n",
    "\n",
    "        base = data.loc[data.Weeks == data.min_week]\n",
    "        base = base[['Patient', 'FVC']].copy()\n",
    "        base.columns = ['Patient', 'min_FVC']\n",
    "        base['nb'] = 1\n",
    "        base['nb'] = base.groupby('Patient')['nb'].transform('cumsum')\n",
    "        base = base[base.nb == 1]\n",
    "        base.drop('nb', axis=1, inplace=True)\n",
    "\n",
    "        data = data.merge(base, on='Patient', how='left')\n",
    "        data['base_week'] = data['Weeks'] - data['min_week']\n",
    "        del base\n",
    "\n",
    "        COLS = ['Sex', 'SmokingStatus']\n",
    "        self.FE = []\n",
    "        for col in COLS:\n",
    "            for mod in data[col].unique():\n",
    "                self.FE.append(mod)\n",
    "                data[mod] = (data[col] == mod).astype(int)\n",
    "\n",
    "        data['age'] = (data['Age'] - data['Age'].min()) / \\\n",
    "                      (data['Age'].max() - data['Age'].min())\n",
    "        data['BASE'] = (data['min_FVC'] - data['min_FVC'].min()) / \\\n",
    "                       (data['min_FVC'].max() - data['min_FVC'].min())\n",
    "        data['week'] = (data['base_week'] - data['base_week'].min()) / \\\n",
    "                       (data['base_week'].max() - data['base_week'].min())\n",
    "        data['percent'] = (data['Percent'] - data['Percent'].min()) / \\\n",
    "                          (data['Percent'].max() - data['Percent'].min())\n",
    "        self.FE += ['age', 'percent', 'week', 'BASE']\n",
    "\n",
    "        self.raw = data.loc[data.WHERE == mode].reset_index()\n",
    "        del data\n",
    "\n",
    "    def __len__(self):\n",
    "        return len(self.raw)\n",
    "\n",
    "    def __getitem__(self, idx):\n",
    "        if torch.is_tensor(idx):\n",
    "            idx = idx.tolist()\n",
    "\n",
    "        patient_id = self.raw['Patient'].iloc[idx]\n",
    "        if self.cache_dir is None:\n",
    "            patient_path = self.dicom_dir / patient_id\n",
    "            image, metadata = load_scan(patient_path)\n",
    "        else:\n",
    "            image = torch.load(self.cache_dir / f'{patient_id}.pt')\n",
    "            metadata = pydicom.read_file(self.cache_dir / f'{patient_id}.dcm')\n",
    "\n",
    "        sample = {\n",
    "            'features': self.raw[self.FE].iloc[idx].values,\n",
    "            'image': image,\n",
    "            'metadata': metadata,\n",
    "            'target': self.raw['FVC'].iloc[idx]\n",
    "        }\n",
    "        if self.transform:\n",
    "            sample = self.transform(sample)\n",
    "\n",
    "        return sample\n",
    "\n",
    "    def cache(self, cache_dir):\n",
    "        Path(cache_dir).mkdir(exist_ok=True, parents=True)\n",
    "\n",
    "        # Cache raw features table\n",
    "        self.raw.to_csv(Path(cache_dir)/f'tabular_{self.mode}.csv', index=False)\n",
    "\n",
    "        # Cache features list\n",
    "        with open(Path(cache_dir)/'features_list.pkl', \"wb\") as fp:\n",
    "            pickle.dump(self.FE, fp)\n",
    "\n",
    "        # Cache images and metadata\n",
    "        self.raw['index'] = self.raw.index\n",
    "        idx_unique = self.raw.groupby('Patient').first()['index'].values\n",
    "        bar = tqdm(idx_unique.tolist())\n",
    "        for idx in bar:\n",
    "            sample = self[idx]\n",
    "            patient_id = sample['metadata'].PatientID\n",
    "            torch.save(sample['image'], Path(cache_dir)/f'{patient_id}.pt')\n",
    "            sample['metadata'].save_as(Path(cache_dir)/f'{patient_id}.dcm')"
   ],
   "metadata": {
    "execution": {
     "iopub.status.busy": "2023-05-08T18:34:23.894736Z",
     "iopub.execute_input": "2023-05-08T18:34:23.895075Z",
     "iopub.status.idle": "2023-05-08T18:34:23.933463Z",
     "shell.execute_reply.started": "2023-05-08T18:34:23.895045Z",
     "shell.execute_reply": "2023-05-08T18:34:23.932679Z"
    },
    "trusted": true
   },
   "execution_count": 119,
   "outputs": []
  },
  {
   "cell_type": "code",
   "source": [
    "# Helper function that loads CT scans in a single array. \n",
    "# This is also new vs. baseline\n",
    "def load_scan(path):\n",
    "    slices = [pydicom.read_file(p) for p in path.glob('*.dcm')]\n",
    "    try:\n",
    "        slices.sort(key=lambda x: float(x.ImagePositionPatient[2]))\n",
    "    except AttributeError:\n",
    "        warnings.warn(f'Patient {slices[0].PatientID} CT scan does not '\n",
    "                      f'have \"ImagePositionPatient\". Assuming filenames '\n",
    "                      f'in the right scan order.')\n",
    "\n",
    "    image = np.stack([s.pixel_array.astype(float) for s in slices])\n",
    "    return image, slices[0]"
   ],
   "metadata": {
    "execution": {
     "iopub.status.busy": "2023-05-08T18:34:23.934663Z",
     "iopub.execute_input": "2023-05-08T18:34:23.935155Z",
     "iopub.status.idle": "2023-05-08T18:34:23.949174Z",
     "shell.execute_reply.started": "2023-05-08T18:34:23.935099Z",
     "shell.execute_reply": "2023-05-08T18:34:23.948242Z"
    },
    "trusted": true
   },
   "execution_count": 120,
   "outputs": []
  },
  {
   "cell_type": "markdown",
   "source": [
    "## Preprocessing CT Scans"
   ],
   "metadata": {}
  },
  {
   "cell_type": "markdown",
   "source": [
    "## Bounding Boxes"
   ],
   "metadata": {}
  },
  {
   "cell_type": "code",
   "source": [
    "class CropBoundingBox:\n",
    "    @staticmethod\n",
    "    def bounding_box(img3d: np.array):\n",
    "        mid_img = img3d[int(img3d.shape[0] / 2)]\n",
    "        same_first_row = (mid_img[0, :] == mid_img[0, 0]).all()\n",
    "        same_first_col = (mid_img[:, 0] == mid_img[0, 0]).all()\n",
    "        if same_first_col and same_first_row:\n",
    "            return True\n",
    "        else:\n",
    "            return False\n",
    "\n",
    "    def __call__(self, sample):\n",
    "        image = sample['image']\n",
    "        if not self.bounding_box(image):\n",
    "            return sample\n",
    "\n",
    "        mid_img = image[int(image.shape[0] / 2)]\n",
    "        r_min, r_max = None, None\n",
    "        c_min, c_max = None, None\n",
    "        for row in range(mid_img.shape[0]):\n",
    "            if not (mid_img[row, :] == mid_img[0, 0]).all() and r_min is None:\n",
    "                r_min = row\n",
    "            if (mid_img[row, :] == mid_img[0, 0]).all() and r_max is None \\\n",
    "                    and r_min is not None:\n",
    "                r_max = row\n",
    "                break\n",
    "\n",
    "        for col in range(mid_img.shape[1]):\n",
    "            if not (mid_img[:, col] == mid_img[0, 0]).all() and c_min is None:\n",
    "                c_min = col\n",
    "            if (mid_img[:, col] == mid_img[0, 0]).all() and c_max is None \\\n",
    "                    and c_min is not None:\n",
    "                c_max = col\n",
    "                break\n",
    "\n",
    "        image = image[:, r_min:r_max, c_min:c_max]\n",
    "        return {\n",
    "            'features': sample['features'],\n",
    "            'image': image,\n",
    "            'metadata': sample['metadata'],\n",
    "            'target': sample['target']\n",
    "        }"
   ],
   "metadata": {
    "execution": {
     "iopub.status.busy": "2023-05-08T18:34:23.950461Z",
     "iopub.execute_input": "2023-05-08T18:34:23.950984Z",
     "iopub.status.idle": "2023-05-08T18:34:23.965447Z",
     "shell.execute_reply.started": "2023-05-08T18:34:23.950927Z",
     "shell.execute_reply": "2023-05-08T18:34:23.964385Z"
    },
    "trusted": true
   },
   "execution_count": 10,
   "outputs": []
  },
  {
   "cell_type": "markdown",
   "source": [
    "## Convert to Hounsfield Units"
   ],
   "metadata": {}
  },
  {
   "cell_type": "code",
   "source": [
    "class ConvertToHU:\n",
    "    def __call__(self, sample):\n",
    "        image, data = sample['image'], sample['metadata']\n",
    "\n",
    "        img_type = data.ImageType\n",
    "        is_hu = img_type[0] == 'ORIGINAL' and not (img_type[2] == 'LOCALIZER')\n",
    "        if not is_hu:\n",
    "            warnings.warn(f'Patient {data.PatientID} CT Scan not cannot be'\n",
    "                          f'converted to Hounsfield Units (HU).')\n",
    "\n",
    "        intercept = data.RescaleIntercept\n",
    "        slope = data.RescaleSlope\n",
    "        image = (image * slope + intercept).astype(np.int16)\n",
    "        return {\n",
    "            'features': sample['features'],\n",
    "            'image': image,\n",
    "            'metadata': data,\n",
    "            'target': sample['target']\n",
    "        }"
   ],
   "metadata": {
    "execution": {
     "iopub.status.busy": "2023-05-08T18:34:23.967044Z",
     "iopub.execute_input": "2023-05-08T18:34:23.967373Z",
     "iopub.status.idle": "2023-05-08T18:34:23.982766Z",
     "shell.execute_reply.started": "2023-05-08T18:34:23.967340Z",
     "shell.execute_reply": "2023-05-08T18:34:23.981525Z"
    },
    "trusted": true
   },
   "execution_count": 11,
   "outputs": []
  },
  {
   "cell_type": "markdown",
   "source": [
    "## Resize"
   ],
   "metadata": {}
  },
  {
   "cell_type": "code",
   "source": [
    "class Resize:\n",
    "    def __init__(self, output_size):\n",
    "        assert isinstance(output_size, tuple)\n",
    "        self.output_size = output_size\n",
    "\n",
    "    def __call__(self, sample):\n",
    "        image = sample['image']\n",
    "        resize_factor = np.array(self.output_size) / np.array(image.shape)\n",
    "        image = zoom(image, resize_factor, mode='nearest')\n",
    "        return {\n",
    "            'features': sample['features'],\n",
    "            'image': image,\n",
    "            'metadata': sample['metadata'],\n",
    "            'target': sample['target']\n",
    "        }"
   ],
   "metadata": {
    "execution": {
     "iopub.status.busy": "2023-05-08T18:34:23.984173Z",
     "iopub.execute_input": "2023-05-08T18:34:23.984484Z",
     "iopub.status.idle": "2023-05-08T18:34:23.998135Z",
     "shell.execute_reply.started": "2023-05-08T18:34:23.984454Z",
     "shell.execute_reply": "2023-05-08T18:34:23.997166Z"
    },
    "trusted": true
   },
   "execution_count": 12,
   "outputs": []
  },
  {
   "cell_type": "markdown",
   "source": [
    "## Clip"
   ],
   "metadata": {}
  },
  {
   "cell_type": "code",
   "source": [
    "class Clip:\n",
    "    def __init__(self, bounds=(-1000, 500)):\n",
    "        self.min = min(bounds)\n",
    "        self.max = max(bounds)\n",
    "\n",
    "    def __call__(self, sample):\n",
    "        image = sample['image']\n",
    "        image[image < self.min] = self.min\n",
    "        image[image > self.max] = self.max\n",
    "        return {\n",
    "            'features': sample['features'],\n",
    "            'image': image,\n",
    "            'metadata': sample['metadata'],\n",
    "            'target': sample['target']\n",
    "        }"
   ],
   "metadata": {
    "execution": {
     "iopub.status.busy": "2023-05-08T18:34:23.999533Z",
     "iopub.execute_input": "2023-05-08T18:34:23.999823Z",
     "iopub.status.idle": "2023-05-08T18:34:24.009437Z",
     "shell.execute_reply.started": "2023-05-08T18:34:23.999795Z",
     "shell.execute_reply": "2023-05-08T18:34:24.008442Z"
    },
    "trusted": true
   },
   "execution_count": 13,
   "outputs": []
  },
  {
   "cell_type": "markdown",
   "source": [
    "## Mask"
   ],
   "metadata": {}
  },
  {
   "cell_type": "code",
   "source": [
    "class Mask:\n",
    "    def __init__(self, threshold=-400,\n",
    "                 root='../data/test'):\n",
    "        self.threshold = threshold\n",
    "        self.root = root\n",
    "\n",
    "    def __call__(self, sample):\n",
    "        image = sample['image']\n",
    "        for slice_id in range(image.shape[0]):\n",
    "            m = self.get_morphological_mask(image[slice_id])\n",
    "            image[slice_id][m == False] = image[slice_id].min()\n",
    "\n",
    "        return {\n",
    "            'features': sample['features'],\n",
    "            'image': image,\n",
    "            'metadata': sample['metadata'],\n",
    "            'target': sample['target']\n",
    "        }\n",
    "\n",
    "    def get_morphological_mask(self, image):\n",
    "        m = image < self.threshold\n",
    "        m = clear_border(m)\n",
    "        m = label(m)\n",
    "        areas = [r.area for r in regionprops(m)]\n",
    "        areas.sort()\n",
    "        if len(areas) > 2:\n",
    "            for region in regionprops(m):\n",
    "                if region.area < areas[-2]:\n",
    "                    for coordinates in region.coords:\n",
    "                        m[coordinates[0], coordinates[1]] = 0\n",
    "        return m > 0"
   ],
   "metadata": {
    "execution": {
     "iopub.status.busy": "2023-05-08T18:34:24.012545Z",
     "iopub.execute_input": "2023-05-08T18:34:24.013096Z",
     "iopub.status.idle": "2023-05-08T18:34:24.029965Z",
     "shell.execute_reply.started": "2023-05-08T18:34:24.013055Z",
     "shell.execute_reply": "2023-05-08T18:34:24.028756Z"
    },
    "trusted": true
   },
   "execution_count": 14,
   "outputs": []
  },
  {
   "cell_type": "markdown",
   "source": [
    "### Normalize, to tensor and zero center"
   ],
   "metadata": {}
  },
  {
   "cell_type": "code",
   "source": [
    "class Normalize:\n",
    "    def __init__(self, bounds=(-1000, 500)):\n",
    "        self.min = min(bounds)\n",
    "        self.max = max(bounds)\n",
    "\n",
    "    def __call__(self, sample):\n",
    "        image = sample['image'].astype(np.float)\n",
    "        image = (image - self.min) / (self.max - self.min)\n",
    "        return {\n",
    "            'features': sample['features'],\n",
    "            'image': image,\n",
    "            'metadata': sample['metadata'],\n",
    "            'target': sample['target']\n",
    "        }\n",
    "\n",
    "class ToTensor:\n",
    "    def __init__(self, add_channel=True):\n",
    "        self.add_channel = add_channel\n",
    "\n",
    "    def __call__(self, sample):\n",
    "        image = sample['image']\n",
    "        if self.add_channel:\n",
    "            image = np.expand_dims(image, axis=0)\n",
    "\n",
    "        return {\n",
    "            'features': sample['features'],\n",
    "            'image': torch.from_numpy(image),\n",
    "            'metadata': sample['metadata'],\n",
    "            'target': sample['target']\n",
    "        }\n",
    "    \n",
    "class ZeroCenter:\n",
    "    def __init__(self, pre_calculated_mean):\n",
    "        self.pre_calculated_mean = pre_calculated_mean\n",
    "\n",
    "    def __call__(self, sample):\n",
    "        return {\n",
    "            'features': sample['features'],\n",
    "            'image': sample['image'] - self.pre_calculated_mean,\n",
    "            'metadata': sample['metadata'],\n",
    "            'target': sample['target']\n",
    "        }"
   ],
   "metadata": {
    "execution": {
     "iopub.status.busy": "2023-05-08T18:34:24.032203Z",
     "iopub.execute_input": "2023-05-08T18:34:24.032556Z",
     "iopub.status.idle": "2023-05-08T18:34:24.047312Z",
     "shell.execute_reply.started": "2023-05-08T18:34:24.032523Z",
     "shell.execute_reply": "2023-05-08T18:34:24.046194Z"
    },
    "trusted": true
   },
   "execution_count": 15,
   "outputs": []
  },
  {
   "cell_type": "markdown",
   "source": [
    "### Validating Pipeline"
   ],
   "metadata": {}
  },
  {
   "cell_type": "code",
   "source": [
    "def show(list_imgs, cmap=cm.bone, rgb=False):\n",
    "    list_slices = []\n",
    "    for img3d in list_imgs:\n",
    "        slc = int(img3d.shape[0] / 2)\n",
    "        img = img3d[slc]\n",
    "        if rgb:\n",
    "            img = (img * 255).astype(np.int16)\n",
    "        list_slices.append(img)\n",
    "\n",
    "    fig, axs = plt.subplots(1, 5, figsize=(15, 7))\n",
    "    for i, img in enumerate(list_slices):\n",
    "        axs[i].imshow(img, cmap=cmap)\n",
    "\n",
    "    plt.show()\n",
    "\n",
    "data = OSICDataset(\n",
    "    root=dataset,\n",
    "    dicom_dir=dataset/'test',\n",
    "    mode='val',\n",
    "    transform=transforms.Compose([\n",
    "        CropBoundingBox(),\n",
    "        ConvertToHU(),\n",
    "        Resize((40, 256, 256)),\n",
    "        Clip(bounds=(-1000, 500)),\n",
    "        Mask(threshold=-500),\n",
    "        Normalize(bounds=(-1000, -500))\n",
    "    ]))\n",
    "\n",
    "for i in range(len(data)):\n",
    "    assert data[i]['image'].shape == (40, 256, 256)\n",
    "    \n",
    "list_imgs = [data[i]['image'] for i in range(len(data))]\n",
    "show(list_imgs)"
   ],
   "metadata": {
    "execution": {
     "iopub.status.busy": "2023-05-08T18:34:24.069735Z",
     "iopub.execute_input": "2023-05-08T18:34:24.070382Z",
     "iopub.status.idle": "2023-05-08T18:36:06.428511Z",
     "shell.execute_reply.started": "2023-05-08T18:34:24.070340Z",
     "shell.execute_reply": "2023-05-08T18:36:06.427232Z"
    },
    "trusted": true
   },
   "execution_count": 17,
   "outputs": [
    {
     "name": "stderr",
     "text": "/opt/conda/lib/python3.7/site-packages/ipykernel_launcher.py:8: UserWarning: Patient ID00421637202311550012437 CT Scan not cannot beconverted to Hounsfield Units (HU).\n  \n",
     "output_type": "stream"
    },
    {
     "output_type": "display_data",
     "data": {
      "text/plain": "<Figure size 1080x504 with 5 Axes>",
      "image/png": "[encoded data removed]"
     },
     "metadata": {
      "needs_background": "light"
     }
    }
   ]
  },
  {
   "cell_type": "markdown",
   "source": [
    "# Models and Training"
   ],
   "metadata": {}
  },
  {
   "cell_type": "markdown",
   "source": [
    "## Quantum Circuit"
   ],
   "metadata": {
    "collapsed": false
   }
  },
  {
   "cell_type": "code",
   "execution_count": 117,
   "outputs": [],
   "source": [
    "# Single qubit Hadamard Gates layer\n",
    "def hadamard_layer(nqubits):\n",
    "    for idx in range(nqubits):\n",
    "        qml.Hadamard(wires=idx)\n",
    "\n",
    "# Rotates the parameterized qubits against the y-axis\n",
    "def rotation_y_layer(w):\n",
    "    for idx, element in enumerate(w):\n",
    "        qml.RY(element, wires=idx)\n",
    "\n",
    "def entangle_layer(nqubits):\n",
    "    for i in range(0, nqubits - 1, 2):\n",
    "        qml.CNOT(wires=[i, i + 1])\n",
    "    for i in range(1, nqubits - 1, 2):\n",
    "        qml.CNOT(wires=[i, i + 1])"
   ],
   "metadata": {
    "collapsed": false
   }
  },
  {
   "cell_type": "code",
   "execution_count": 115,
   "outputs": [],
   "source": [
    "@qml.qnode(dev, interface=\"torch\")\n",
    "def variational_circuit(q_input_features, q_weights_flat):\n",
    "    # Reshape weights\n",
    "    q_weights = q_weights_flat.reshape(q_depth, n_qubits)\n",
    "\n",
    "    # Start from state |+> , unbiased w.r.t. |0> and |1>\n",
    "    hadamard_layer(n_qubits)\n",
    "\n",
    "    # Embed features in the quantum node\n",
    "    rotation_y_layer(q_input_features)\n",
    "\n",
    "    # Sequence of trainable variational layers\n",
    "    for k in range(q_depth):\n",
    "        entangle_layer(n_qubits)\n",
    "        rotation_y_layer(q_weights[k])\n",
    "\n",
    "    # Expectation values in the Z basis\n",
    "    exp_vals = [qml.expval(qml.PauliZ(position)) for position in range(n_qubits)]\n",
    "    return tuple(exp_vals)"
   ],
   "metadata": {
    "collapsed": false
   }
  },
  {
   "cell_type": "markdown",
   "source": [
    "## Quantile Regression model"
   ],
   "metadata": {}
  },
  {
   "cell_type": "code",
   "source": [
    "class RegressionModel(nn.Module):\n",
    "    def __init__(self, in_tabular_features=9, in_ctscan_features=76800, out_quantiles=3):\n",
    "        super(RegressionModel, self).__init__()\n",
    "        self.in_ctscan_features = in_ctscan_features\n",
    "\n",
    "        self.fc1 = nn.Linear(in_tabular_features, 512)\n",
    "        self.fc2 = nn.Linear(in_ctscan_features, 512)\n",
    "        self.fc3 = nn.Linear(1024, 512)\n",
    "        self.fc4 = nn.Linear(512, out_quantiles)\n",
    "\n",
    "    def forward(self, x1, x2):\n",
    "        # Now the quant model has 2 inputs: x1 (the tabular features)\n",
    "        # and x2 (the pre-computed latent features)\n",
    "        x1 = F.relu(self.fc1(x1))\n",
    "\n",
    "        # obtain the input features for the quantum circuit\n",
    "        # by reducing the feature dimension from 512 to 4\n",
    "        pre_out = self.pre_net(x2)\n",
    "        q_in = torch.tanh(pre_out) * np.pi / 2.0\n",
    "        \n",
    "        # Flattens the latent features and concatenate with tabular features\n",
    "        x2 = x2.view(-1, self.in_ctscan_features)\n",
    "        x2 = F.relu(self.fc2(x2))\n",
    "        x = torch.cat([x1, x2], dim=1)\n",
    "\n",
    "        # Apply the quantum circuit to each element of the batch and append to q_out\n",
    "        q_out = torch.Tensor(0, n_qubits)\n",
    "        q_out = q_out.to(device)\n",
    "        for elem in q_in:\n",
    "            q_out_elem = variational_circuit(elem, self.q_params).float().unsqueeze(0)\n",
    "            q_out = torch.cat((q_out, q_out_elem))\n",
    "\n",
    "        x = self.post_net(q_out)\n",
    "        x = F.relu(self.fc3(x))\n",
    "        x = self.fc4(x)\n",
    "        return x"
   ],
   "metadata": {
    "execution": {
     "iopub.status.busy": "2023-05-08T18:36:50.093176Z",
     "iopub.execute_input": "2023-05-08T18:36:50.093604Z",
     "iopub.status.idle": "2023-05-08T18:36:50.107285Z",
     "shell.execute_reply.started": "2023-05-08T18:36:50.093560Z",
     "shell.execute_reply": "2023-05-08T18:36:50.106154Z"
    },
    "trusted": true
   },
   "execution_count": 19,
   "outputs": []
  },
  {
   "cell_type": "markdown",
   "source": [
    "## Quantile Regression loss"
   ],
   "metadata": {}
  },
  {
   "cell_type": "code",
   "source": [
    "def quantile_loss(preds, target, quantiles):\n",
    "    assert not target.requires_grad\n",
    "    assert preds.size(0) == target.size(0)\n",
    "    losses = []\n",
    "    for i, q in enumerate(quantiles):\n",
    "        errors = target - preds[:, i]\n",
    "        losses.append(torch.max((q - 1) * errors, q * errors).unsqueeze(1))\n",
    "    loss = torch.mean(torch.sum(torch.cat(losses, dim=1), dim=1))\n",
    "    return loss"
   ],
   "metadata": {
    "execution": {
     "iopub.status.busy": "2023-05-08T18:36:50.108969Z",
     "iopub.execute_input": "2023-05-08T18:36:50.109428Z",
     "iopub.status.idle": "2023-05-08T18:36:50.125279Z",
     "shell.execute_reply.started": "2023-05-08T18:36:50.109384Z",
     "shell.execute_reply": "2023-05-08T18:36:50.124101Z"
    },
    "trusted": true
   },
   "execution_count": 20,
   "outputs": []
  },
  {
   "cell_type": "markdown",
   "source": [
    "## AutoEncoding Pre-processed DICOM"
   ],
   "metadata": {}
  },
  {
   "cell_type": "code",
   "source": [
    "class AutoEncoder(nn.Module):\n",
    "    def __init__(self):\n",
    "        super(AutoEncoder, self).__init__()\n",
    "        # Encoder\n",
    "        self.conv1 = nn.Conv3d(1, 16, 3)\n",
    "        self.conv2 = nn.Conv3d(16, 32, 3)\n",
    "        self.conv3 = nn.Conv3d(32, 96, 2)\n",
    "        self.pool1 = nn.MaxPool3d(kernel_size=2, stride=2, return_indices=True)\n",
    "        self.pool2 = nn.MaxPool3d(kernel_size=3, stride=3, return_indices=True)\n",
    "        self.pool3 = nn.MaxPool3d(kernel_size=2, stride=2, return_indices=True)\n",
    "        # Decoder\n",
    "        self.deconv1 = nn.ConvTranspose3d(96, 32, 2)\n",
    "        self.deconv2 = nn.ConvTranspose3d(32, 16, 3)\n",
    "        self.deconv3 = nn.ConvTranspose3d(16, 1, 3)\n",
    "        self.unpool1 = nn.MaxUnpool3d(kernel_size=2, stride=2)\n",
    "        self.unpool2 = nn.MaxUnpool3d(kernel_size=3, stride=3)\n",
    "        self.unpool3 = nn.MaxUnpool3d(kernel_size=2, stride=2)\n",
    "\n",
    "    def encode(self, x, return_partials=True):\n",
    "        # Encoder\n",
    "        x = self.conv1(x)\n",
    "        up3out_shape = x.shape\n",
    "        x, i1 = self.pool1(x)\n",
    "        x = self.conv2(x)\n",
    "        up2out_shape = x.shape\n",
    "        x, i2 = self.pool2(x)\n",
    "        x = self.conv3(x)\n",
    "        up1out_shape = x.shape\n",
    "        x, i3 = self.pool3(x)\n",
    "\n",
    "        if return_partials:\n",
    "            return x, up3out_shape, i1, up2out_shape, i2, up1out_shape, i3\n",
    "        else:\n",
    "            return x\n",
    "\n",
    "    def forward(self, x):\n",
    "        x, up3out_shape, i1, up2out_shape, i2, up1out_shape, i3 = self.encode(x)\n",
    "\n",
    "        # Decoder\n",
    "        x = self.unpool1(x, output_size=up1out_shape, indices=i3)\n",
    "        x = self.deconv1(x)\n",
    "        x = self.unpool2(x, output_size=up2out_shape, indices=i2)\n",
    "        x = self.deconv2(x)\n",
    "        x = self.unpool3(x, output_size=up3out_shape, indices=i1)\n",
    "        x = self.deconv3(x)\n",
    "\n",
    "        return x"
   ],
   "metadata": {
    "execution": {
     "iopub.status.busy": "2023-05-08T18:36:50.127397Z",
     "iopub.execute_input": "2023-05-08T18:36:50.128072Z",
     "iopub.status.idle": "2023-05-08T18:36:50.147099Z",
     "shell.execute_reply.started": "2023-05-08T18:36:50.127990Z",
     "shell.execute_reply": "2023-05-08T18:36:50.145848Z"
    },
    "trusted": true
   },
   "execution_count": 21,
   "outputs": []
  },
  {
   "cell_type": "markdown",
   "source": [
    "## Cache all pre-processed 3D CT Scans and pre-compute all latent features"
   ],
   "metadata": {}
  },
  {
   "cell_type": "code",
   "source": [
    "# Helper function that generates all latent features\n",
    "class GenerateLatentFeatures:\n",
    "    def __init__(self, autoencoder, latent_dir):\n",
    "        self.autoencoder = autoencoder\n",
    "        self.latent_dir = Path(latent_dir)\n",
    "        self.cache_dir = Path(cache_dataset)\n",
    "\n",
    "    def __call__(self, sample):\n",
    "        patient_id = sample['metadata'].PatientID\n",
    "        cached_latent_file = self.latent_dir/f'{patient_id}_lat.pt'\n",
    "\n",
    "        if cached_latent_file.is_file():\n",
    "            latent_features = torch.load(cached_latent_file)\n",
    "        else:\n",
    "            with torch.no_grad():\n",
    "                img = sample['image'].float().unsqueeze(0)\n",
    "                latent_features = self.autoencoder.encode(\n",
    "                    img, return_partials=False).squeeze(0)\n",
    "            torch.save(latent_features, cached_latent_file)\n",
    "\n",
    "        return {\n",
    "            'tabular_features': sample['features'],\n",
    "            'latent_features': latent_features,\n",
    "            'target': sample['target']\n",
    "        }"
   ],
   "metadata": {
    "execution": {
     "iopub.status.busy": "2023-05-08T18:36:50.149434Z",
     "iopub.execute_input": "2023-05-08T18:36:50.149922Z",
     "iopub.status.idle": "2023-05-08T18:36:50.163340Z",
     "shell.execute_reply.started": "2023-05-08T18:36:50.149831Z",
     "shell.execute_reply": "2023-05-08T18:36:50.162145Z"
    },
    "trusted": true
   },
   "execution_count": 22,
   "outputs": []
  },
  {
   "cell_type": "code",
   "source": [
    "autoencoder = AutoEncoder()\n",
    "autoencoder.load_state_dict(torch.load(\n",
    "    dicom_encoder_weights,\n",
    "    map_location=torch.device('cpu')\n",
    "))\n",
    "autoencoder.to(device)\n",
    "autoencoder.eval()\n",
    "\n",
    "data = OSICDataset(\n",
    "    root=dataset,\n",
    "    dicom_dir=dataset/'train',\n",
    "    cache_dir=cache_dataset,\n",
    "    mode='train',\n",
    "    transform=GenerateLatentFeatures(autoencoder, latent_dir)\n",
    ")\n",
    "for i in trange(len(data)):\n",
    "    sample = data[i]\n",
    "    assert sample['latent_features'].shape == (96, 2, 20, 20)"
   ],
   "metadata": {
    "execution": {
     "iopub.status.busy": "2023-05-08T18:36:50.164777Z",
     "iopub.execute_input": "2023-05-08T18:36:50.165153Z",
     "iopub.status.idle": "2023-05-08T18:40:02.283958Z",
     "shell.execute_reply.started": "2023-05-08T18:36:50.165102Z",
     "shell.execute_reply": "2023-05-08T18:40:02.283155Z"
    },
    "trusted": true,
    "pycharm": {
     "is_executing": true
    }
   },
   "execution_count": null,
   "outputs": []
  },
  {
   "cell_type": "markdown",
   "source": [
    "# Training"
   ],
   "metadata": {}
  },
  {
   "cell_type": "code",
   "source": [
    "# Group Splitting\n",
    "def group_split(dataset, groups, test_size=0.2):\n",
    "    gss = GroupShuffleSplit(n_splits=1, test_size=test_size)\n",
    "    idx = list(gss.split(dataset.raw, dataset.raw, groups))\n",
    "    train = Subset(dataset, idx[0][0])\n",
    "    val = Subset(dataset, idx[0][1])\n",
    "    return train, val\n",
    "\n",
    "# Model Comparison Matrix\n",
    "def metric(preds, targets):\n",
    "    sigma = preds[:, 2] - preds[:, 0]\n",
    "    sigma[sigma < 70] = 70\n",
    "    delta = (preds[:, 1] - targets).abs()\n",
    "    delta[delta > 1000] = 1000\n",
    "    return -np.sqrt(2) * delta / sigma - torch.log(np.sqrt(2) * sigma)"
   ],
   "metadata": {
    "execution": {
     "iopub.status.busy": "2023-05-08T18:40:30.550307Z",
     "iopub.execute_input": "2023-05-08T18:40:30.550903Z",
     "iopub.status.idle": "2023-05-08T18:40:30.561097Z",
     "shell.execute_reply.started": "2023-05-08T18:40:30.550860Z",
     "shell.execute_reply": "2023-05-08T18:40:30.559872Z"
    },
    "trusted": true
   },
   "execution_count": 25,
   "outputs": []
  },
  {
   "cell_type": "code",
   "source": [
    "# Load the data\n",
    "autoencoder = AutoEncoder()\n",
    "autoencoder.load_state_dict(torch.load(dicom_encoder_weights, map_location=torch.device('cpu')))\n",
    "autoencoder.eval()\n",
    "\n",
    "data = OSICDataset(\n",
    "    root=dataset,\n",
    "    dicom_dir=dataset/'train',\n",
    "    cache_dir=cache_dataset,\n",
    "    mode='train',\n",
    "    transform=GenerateLatentFeatures(autoencoder, latent_dir)\n",
    ")\n",
    "\n",
    "trainset, valset = group_split(data, data.raw['Patient'], test_size)\n",
    "t0 = time()\n",
    "\n",
    "# Model Weights Prep\n",
    "Path(modelDirectory).mkdir(parents=True, exist_ok=True)\n",
    "now = datetime.now()\n",
    "filename = f'{model_name}.pth'\n",
    "model_file = Path(modelDirectory) / filename\n",
    "test_model_file = Path(modelDirectory) / f'model-you-know.pth'\n",
    "\n",
    "dataset_sizes = {'train': len(trainset), 'val': len(valset)}\n",
    "dataloaders = {\n",
    "    'train': DataLoader(trainset, batch_size=batch_size,\n",
    "                        shuffle=True, num_workers=2),\n",
    "    'val': DataLoader(valset, batch_size=batch_size,\n",
    "                      shuffle=False, num_workers=2)\n",
    "}\n",
    "\n",
    "# Create the model and optimizer\n",
    "model = RegressionModel().to(device)\n",
    "optimizer = torch.optim.Adam(model.parameters(), lr=learning_rate)\n",
    "\n",
    "# Set global tracking variables\n",
    "epoch_loss = {'train': np.inf, 'val': np.inf}\n",
    "epoch_metric = {'train': -np.inf, 'val': -np.inf}\n",
    "best_loss = np.inf\n",
    "best_model_wts = None\n",
    "df = pd.DataFrame(columns=['epoch', 'train_loss', 'val_loss'])\n",
    "\n",
    "# Training loop\n",
    "for epoch in range(num_epochs):\n",
    "    for phase in ['train', 'val']:\n",
    "        if phase == 'train':\n",
    "            model.train()  # Set model to training mode\n",
    "        else:\n",
    "            model.eval()   # Set model to evaluate mode\n",
    "\n",
    "        running_loss = 0.0\n",
    "        running_metric = 0.0\n",
    "\n",
    "        # Iterate over data\n",
    "        num_samples = 0\n",
    "        bar = tqdm(dataloaders[phase])\n",
    "        for batch in bar:\n",
    "            bar.set_description(f'Epoch {epoch} {phase}'.ljust(20))\n",
    "            inputs1 = batch['tabular_features'].float().to(device)\n",
    "            inputs2 = batch['latent_features'].float().to(device)\n",
    "            targets = batch['target'].to(device)\n",
    "\n",
    "            # zero the parameter gradients\n",
    "            optimizer.zero_grad()\n",
    "            # forward\n",
    "            # track gradients if only in train\n",
    "            with torch.set_grad_enabled(phase == 'train'):\n",
    "                preds = model(inputs1, inputs2)\n",
    "                loss = quantile_loss(preds, targets, quantiles)\n",
    "                # backward + optimize only if in training phase\n",
    "                if phase == 'train':\n",
    "                    loss.backward()\n",
    "                    optimizer.step()\n",
    "\n",
    "            running_loss += loss.item() * inputs1.size(0)\n",
    "            running_metric += metric(preds, targets).sum()\n",
    "\n",
    "            # batch statistics\n",
    "            num_samples += inputs1.size(0)\n",
    "            bar.set_postfix(loss=f'{running_loss / num_samples:0.1f}',\n",
    "                            metric=f'{running_metric / num_samples:0.4f}')\n",
    "\n",
    "        # epoch statistics\n",
    "        epoch_loss[phase] = running_loss / dataset_sizes[phase]\n",
    "        epoch_metric[phase] = running_metric / dataset_sizes[phase]\n",
    "\n",
    "        # deep copy the model\n",
    "        if phase == 'val' and epoch_loss['val'] < best_loss:\n",
    "            best_loss = epoch_loss['val']\n",
    "            best_model_wts = copy.deepcopy(model.state_dict())\n",
    "            next_best = copy.deepcopy(model)\n",
    "#             print(best_model_wts)\n",
    "            print(model)\n",
    "            torch.save(best_model_wts, model_file)\n",
    "            torch.save(next_best, model_file)\n",
    "            print(next_best)\n",
    "\n",
    "    df = df.append({\n",
    "        'epoch': epoch + 1,\n",
    "        'train_loss': epoch_loss[\"train\"],\n",
    "        'val_loss': epoch_loss[\"val\"]\n",
    "    }, ignore_index=True)\n",
    "\n",
    "# Save training statistics\n",
    "filename = f'{model_name}-statistics.csv'\n",
    "csv_file = Path(modelDirectory) / filename\n",
    "df.to_csv(csv_file, index=False)\n",
    "\n",
    "print(f'Training complete! Time: {timedelta(seconds=time() - t0)}')\n",
    "models = [next_best]"
   ],
   "metadata": {
    "execution": {
     "iopub.status.busy": "2023-05-08T18:40:30.563323Z",
     "iopub.execute_input": "2023-05-08T18:40:30.564186Z",
     "iopub.status.idle": "2023-05-08T18:57:30.297817Z",
     "shell.execute_reply.started": "2023-05-08T18:40:30.564128Z",
     "shell.execute_reply": "2023-05-08T18:57:30.296642Z"
    },
    "trusted": true
   },
   "execution_count": 26,
   "outputs": [
    {
     "name": "stderr",
     "text": "Epoch 0 train       : 100%|██████████| 38/38 [00:24<00:00,  1.55it/s, loss=1889.7, metric=-10.9239]\nEpoch 0 val         : 100%|██████████| 10/10 [00:02<00:00,  3.46it/s, loss=837.5, metric=-8.2398]\n",
     "output_type": "stream"
    },
    {
     "name": "stdout",
     "text": "QuantModel(\n  (fc1): Linear(in_features=9, out_features=512, bias=True)\n  (fc2): Linear(in_features=76800, out_features=512, bias=True)\n  (fc3): Linear(in_features=1024, out_features=512, bias=True)\n  (fc4): Linear(in_features=512, out_features=3, bias=True)\n)\n",
     "output_type": "stream"
    },
    {
     "name": "stderr",
     "text": "/opt/conda/lib/python3.7/site-packages/torch/serialization.py:402: UserWarning: Couldn't retrieve source code for container of type QuantModel. It won't be checked for correctness upon loading.\n  \"type \" + obj.__name__ + \". It won't be checked \"\n  0%|          | 0/38 [00:00<?, ?it/s]",
     "output_type": "stream"
    },
    {
     "name": "stdout",
     "text": "QuantModel(\n  (fc1): Linear(in_features=9, out_features=512, bias=True)\n  (fc2): Linear(in_features=76800, out_features=512, bias=True)\n  (fc3): Linear(in_features=1024, out_features=512, bias=True)\n  (fc4): Linear(in_features=512, out_features=3, bias=True)\n)\n",
     "output_type": "stream"
    },
    {
     "name": "stderr",
     "text": "Epoch 1 train       : 100%|██████████| 38/38 [00:24<00:00,  1.53it/s, loss=768.4, metric=-8.0999]\nEpoch 1 val         : 100%|██████████| 10/10 [00:02<00:00,  3.34it/s, loss=770.1, metric=-8.1090]\n",
     "output_type": "stream"
    },
    {
     "name": "stdout",
     "text": "QuantModel(\n  (fc1): Linear(in_features=9, out_features=512, bias=True)\n  (fc2): Linear(in_features=76800, out_features=512, bias=True)\n  (fc3): Linear(in_features=1024, out_features=512, bias=True)\n  (fc4): Linear(in_features=512, out_features=3, bias=True)\n)\n",
     "output_type": "stream"
    },
    {
     "name": "stderr",
     "text": "  0%|          | 0/38 [00:00<?, ?it/s]",
     "output_type": "stream"
    },
    {
     "name": "stdout",
     "text": "QuantModel(\n  (fc1): Linear(in_features=9, out_features=512, bias=True)\n  (fc2): Linear(in_features=76800, out_features=512, bias=True)\n  (fc3): Linear(in_features=1024, out_features=512, bias=True)\n  (fc4): Linear(in_features=512, out_features=3, bias=True)\n)\n",
     "output_type": "stream"
    },
    {
     "name": "stderr",
     "text": "Epoch 2 train       : 100%|██████████| 38/38 [01:00<00:00,  1.60s/it, loss=676.5, metric=-7.9763]\nEpoch 2 val         : 100%|██████████| 10/10 [00:07<00:00,  1.39it/s, loss=715.0, metric=-8.0584]\n",
     "output_type": "stream"
    },
    {
     "name": "stdout",
     "text": "QuantModel(\n  (fc1): Linear(in_features=9, out_features=512, bias=True)\n  (fc2): Linear(in_features=76800, out_features=512, bias=True)\n  (fc3): Linear(in_features=1024, out_features=512, bias=True)\n  (fc4): Linear(in_features=512, out_features=3, bias=True)\n)\n",
     "output_type": "stream"
    },
    {
     "name": "stderr",
     "text": "  0%|          | 0/38 [00:00<?, ?it/s]",
     "output_type": "stream"
    },
    {
     "name": "stdout",
     "text": "QuantModel(\n  (fc1): Linear(in_features=9, out_features=512, bias=True)\n  (fc2): Linear(in_features=76800, out_features=512, bias=True)\n  (fc3): Linear(in_features=1024, out_features=512, bias=True)\n  (fc4): Linear(in_features=512, out_features=3, bias=True)\n)\n",
     "output_type": "stream"
    },
    {
     "name": "stderr",
     "text": "Epoch 3 train       : 100%|██████████| 38/38 [00:26<00:00,  1.45it/s, loss=565.3, metric=-7.8451]\nEpoch 3 val         : 100%|██████████| 10/10 [00:02<00:00,  3.37it/s, loss=695.6, metric=-7.8694]\n",
     "output_type": "stream"
    },
    {
     "name": "stdout",
     "text": "QuantModel(\n  (fc1): Linear(in_features=9, out_features=512, bias=True)\n  (fc2): Linear(in_features=76800, out_features=512, bias=True)\n  (fc3): Linear(in_features=1024, out_features=512, bias=True)\n  (fc4): Linear(in_features=512, out_features=3, bias=True)\n)\n",
     "output_type": "stream"
    },
    {
     "name": "stderr",
     "text": "  0%|          | 0/38 [00:00<?, ?it/s]",
     "output_type": "stream"
    },
    {
     "name": "stdout",
     "text": "QuantModel(\n  (fc1): Linear(in_features=9, out_features=512, bias=True)\n  (fc2): Linear(in_features=76800, out_features=512, bias=True)\n  (fc3): Linear(in_features=1024, out_features=512, bias=True)\n  (fc4): Linear(in_features=512, out_features=3, bias=True)\n)\n",
     "output_type": "stream"
    },
    {
     "name": "stderr",
     "text": "Epoch 4 train       : 100%|██████████| 38/38 [00:25<00:00,  1.49it/s, loss=443.4, metric=-7.6108]\nEpoch 4 val         : 100%|██████████| 10/10 [00:03<00:00,  3.08it/s, loss=579.6, metric=-7.7432]\n",
     "output_type": "stream"
    },
    {
     "name": "stdout",
     "text": "QuantModel(\n  (fc1): Linear(in_features=9, out_features=512, bias=True)\n  (fc2): Linear(in_features=76800, out_features=512, bias=True)\n  (fc3): Linear(in_features=1024, out_features=512, bias=True)\n  (fc4): Linear(in_features=512, out_features=3, bias=True)\n)\n",
     "output_type": "stream"
    },
    {
     "name": "stderr",
     "text": "  0%|          | 0/38 [00:00<?, ?it/s]",
     "output_type": "stream"
    },
    {
     "name": "stdout",
     "text": "QuantModel(\n  (fc1): Linear(in_features=9, out_features=512, bias=True)\n  (fc2): Linear(in_features=76800, out_features=512, bias=True)\n  (fc3): Linear(in_features=1024, out_features=512, bias=True)\n  (fc4): Linear(in_features=512, out_features=3, bias=True)\n)\n",
     "output_type": "stream"
    },
    {
     "name": "stderr",
     "text": "Epoch 5 train       : 100%|██████████| 38/38 [00:25<00:00,  1.50it/s, loss=318.0, metric=-7.2710]\nEpoch 5 val         : 100%|██████████| 10/10 [00:02<00:00,  3.50it/s, loss=588.6, metric=-8.0755]\nEpoch 6 train       : 100%|██████████| 38/38 [00:25<00:00,  1.51it/s, loss=264.5, metric=-7.0934]\nEpoch 6 val         : 100%|██████████| 10/10 [00:02<00:00,  3.45it/s, loss=591.0, metric=-8.0239]\nEpoch 7 train       : 100%|██████████| 38/38 [00:25<00:00,  1.50it/s, loss=206.0, metric=-6.8154]\nEpoch 7 val         : 100%|██████████| 10/10 [00:03<00:00,  3.26it/s, loss=548.7, metric=-7.8970]\n",
     "output_type": "stream"
    },
    {
     "name": "stdout",
     "text": "QuantModel(\n  (fc1): Linear(in_features=9, out_features=512, bias=True)\n  (fc2): Linear(in_features=76800, out_features=512, bias=True)\n  (fc3): Linear(in_features=1024, out_features=512, bias=True)\n  (fc4): Linear(in_features=512, out_features=3, bias=True)\n)\n",
     "output_type": "stream"
    },
    {
     "name": "stderr",
     "text": "  0%|          | 0/38 [00:00<?, ?it/s]",
     "output_type": "stream"
    },
    {
     "name": "stdout",
     "text": "QuantModel(\n  (fc1): Linear(in_features=9, out_features=512, bias=True)\n  (fc2): Linear(in_features=76800, out_features=512, bias=True)\n  (fc3): Linear(in_features=1024, out_features=512, bias=True)\n  (fc4): Linear(in_features=512, out_features=3, bias=True)\n)\n",
     "output_type": "stream"
    },
    {
     "name": "stderr",
     "text": "Epoch 8 train       : 100%|██████████| 38/38 [00:25<00:00,  1.47it/s, loss=215.2, metric=-6.8838]\nEpoch 8 val         : 100%|██████████| 10/10 [00:02<00:00,  3.50it/s, loss=587.6, metric=-7.9158]\nEpoch 9 train       : 100%|██████████| 38/38 [00:25<00:00,  1.51it/s, loss=175.3, metric=-6.6718]\nEpoch 9 val         : 100%|██████████| 10/10 [00:02<00:00,  3.36it/s, loss=584.5, metric=-8.1388]\nEpoch 10 train      : 100%|██████████| 38/38 [00:25<00:00,  1.50it/s, loss=166.8, metric=-6.6115]\nEpoch 10 val        : 100%|██████████| 10/10 [00:02<00:00,  3.47it/s, loss=556.2, metric=-8.1942]\nEpoch 11 train      : 100%|██████████| 38/38 [00:25<00:00,  1.51it/s, loss=165.5, metric=-6.6181]\nEpoch 11 val        : 100%|██████████| 10/10 [00:02<00:00,  3.64it/s, loss=535.0, metric=-7.9924]\n",
     "output_type": "stream"
    },
    {
     "name": "stdout",
     "text": "QuantModel(\n  (fc1): Linear(in_features=9, out_features=512, bias=True)\n  (fc2): Linear(in_features=76800, out_features=512, bias=True)\n  (fc3): Linear(in_features=1024, out_features=512, bias=True)\n  (fc4): Linear(in_features=512, out_features=3, bias=True)\n)\n",
     "output_type": "stream"
    },
    {
     "name": "stderr",
     "text": "  0%|          | 0/38 [00:00<?, ?it/s]",
     "output_type": "stream"
    },
    {
     "name": "stdout",
     "text": "QuantModel(\n  (fc1): Linear(in_features=9, out_features=512, bias=True)\n  (fc2): Linear(in_features=76800, out_features=512, bias=True)\n  (fc3): Linear(in_features=1024, out_features=512, bias=True)\n  (fc4): Linear(in_features=512, out_features=3, bias=True)\n)\n",
     "output_type": "stream"
    },
    {
     "name": "stderr",
     "text": "Epoch 12 train      : 100%|██████████| 38/38 [00:24<00:00,  1.52it/s, loss=187.3, metric=-6.7893]\nEpoch 12 val        : 100%|██████████| 10/10 [00:02<00:00,  3.61it/s, loss=553.3, metric=-8.0179]\nEpoch 13 train      : 100%|██████████| 38/38 [00:24<00:00,  1.54it/s, loss=155.9, metric=-6.5320]\nEpoch 13 val        : 100%|██████████| 10/10 [00:03<00:00,  3.23it/s, loss=514.7, metric=-7.9280]\n",
     "output_type": "stream"
    },
    {
     "name": "stdout",
     "text": "QuantModel(\n  (fc1): Linear(in_features=9, out_features=512, bias=True)\n  (fc2): Linear(in_features=76800, out_features=512, bias=True)\n  (fc3): Linear(in_features=1024, out_features=512, bias=True)\n  (fc4): Linear(in_features=512, out_features=3, bias=True)\n)\n",
     "output_type": "stream"
    },
    {
     "name": "stderr",
     "text": "  0%|          | 0/38 [00:00<?, ?it/s]",
     "output_type": "stream"
    },
    {
     "name": "stdout",
     "text": "QuantModel(\n  (fc1): Linear(in_features=9, out_features=512, bias=True)\n  (fc2): Linear(in_features=76800, out_features=512, bias=True)\n  (fc3): Linear(in_features=1024, out_features=512, bias=True)\n  (fc4): Linear(in_features=512, out_features=3, bias=True)\n)\n",
     "output_type": "stream"
    },
    {
     "name": "stderr",
     "text": "Epoch 14 train      : 100%|██████████| 38/38 [00:24<00:00,  1.55it/s, loss=171.6, metric=-6.6761]\nEpoch 14 val        : 100%|██████████| 10/10 [00:02<00:00,  3.56it/s, loss=540.4, metric=-8.2935]\nEpoch 15 train      : 100%|██████████| 38/38 [00:25<00:00,  1.50it/s, loss=149.1, metric=-6.5081]\nEpoch 15 val        : 100%|██████████| 10/10 [00:02<00:00,  3.70it/s, loss=547.1, metric=-7.8531]\nEpoch 16 train      : 100%|██████████| 38/38 [00:26<00:00,  1.43it/s, loss=155.1, metric=-6.5748]\nEpoch 16 val        : 100%|██████████| 10/10 [00:02<00:00,  3.63it/s, loss=528.1, metric=-7.8543]\nEpoch 17 train      : 100%|██████████| 38/38 [00:30<00:00,  1.27it/s, loss=163.1, metric=-6.6145]\nEpoch 17 val        : 100%|██████████| 10/10 [00:02<00:00,  3.56it/s, loss=550.1, metric=-8.0162]\nEpoch 18 train      : 100%|██████████| 38/38 [00:32<00:00,  1.17it/s, loss=166.6, metric=-6.6367]\nEpoch 18 val        : 100%|██████████| 10/10 [00:02<00:00,  3.52it/s, loss=506.4, metric=-7.6738]\n",
     "output_type": "stream"
    },
    {
     "name": "stdout",
     "text": "QuantModel(\n  (fc1): Linear(in_features=9, out_features=512, bias=True)\n  (fc2): Linear(in_features=76800, out_features=512, bias=True)\n  (fc3): Linear(in_features=1024, out_features=512, bias=True)\n  (fc4): Linear(in_features=512, out_features=3, bias=True)\n)\n",
     "output_type": "stream"
    },
    {
     "name": "stderr",
     "text": "  0%|          | 0/38 [00:00<?, ?it/s]",
     "output_type": "stream"
    },
    {
     "name": "stdout",
     "text": "QuantModel(\n  (fc1): Linear(in_features=9, out_features=512, bias=True)\n  (fc2): Linear(in_features=76800, out_features=512, bias=True)\n  (fc3): Linear(in_features=1024, out_features=512, bias=True)\n  (fc4): Linear(in_features=512, out_features=3, bias=True)\n)\n",
     "output_type": "stream"
    },
    {
     "name": "stderr",
     "text": "Epoch 19 train      : 100%|██████████| 38/38 [00:33<00:00,  1.12it/s, loss=138.6, metric=-6.4340]\nEpoch 19 val        : 100%|██████████| 10/10 [00:03<00:00,  3.26it/s, loss=530.0, metric=-8.5748]\nEpoch 20 train      : 100%|██████████| 38/38 [00:33<00:00,  1.12it/s, loss=144.8, metric=-6.4603]\nEpoch 20 val        : 100%|██████████| 10/10 [00:02<00:00,  3.40it/s, loss=556.1, metric=-8.0177]\nEpoch 21 train      : 100%|██████████| 38/38 [00:32<00:00,  1.18it/s, loss=153.6, metric=-6.5520]\nEpoch 21 val        : 100%|██████████| 10/10 [00:04<00:00,  2.03it/s, loss=524.7, metric=-8.4796]\nEpoch 22 train      : 100%|██████████| 38/38 [01:04<00:00,  1.70s/it, loss=141.0, metric=-6.4523]\nEpoch 22 val        : 100%|██████████| 10/10 [00:05<00:00,  1.85it/s, loss=512.3, metric=-8.1952]\nEpoch 23 train      : 100%|██████████| 38/38 [00:31<00:00,  1.20it/s, loss=137.1, metric=-6.4219]\nEpoch 23 val        : 100%|██████████| 10/10 [00:03<00:00,  3.32it/s, loss=518.6, metric=-8.1900]\nEpoch 24 train      : 100%|██████████| 38/38 [00:31<00:00,  1.22it/s, loss=149.0, metric=-6.5137]\nEpoch 24 val        : 100%|██████████| 10/10 [00:02<00:00,  3.50it/s, loss=518.6, metric=-7.7485]\nEpoch 25 train      : 100%|██████████| 38/38 [00:30<00:00,  1.23it/s, loss=143.5, metric=-6.4738]\nEpoch 25 val        : 100%|██████████| 10/10 [00:02<00:00,  3.34it/s, loss=517.3, metric=-8.4792]\nEpoch 26 train      : 100%|██████████| 38/38 [00:31<00:00,  1.22it/s, loss=153.3, metric=-6.5542]\nEpoch 26 val        : 100%|██████████| 10/10 [00:02<00:00,  3.34it/s, loss=523.5, metric=-8.4691]\nEpoch 27 train      : 100%|██████████| 38/38 [00:31<00:00,  1.22it/s, loss=140.8, metric=-6.4431]\nEpoch 27 val        : 100%|██████████| 10/10 [00:02<00:00,  3.45it/s, loss=532.3, metric=-8.4253]\nEpoch 28 train      : 100%|██████████| 38/38 [00:31<00:00,  1.21it/s, loss=140.1, metric=-6.4532]\nEpoch 28 val        : 100%|██████████| 10/10 [00:02<00:00,  3.39it/s, loss=550.8, metric=-8.4485]\nEpoch 29 train      : 100%|██████████| 38/38 [00:30<00:00,  1.23it/s, loss=135.1, metric=-6.4092]\nEpoch 29 val        : 100%|██████████| 10/10 [00:03<00:00,  3.30it/s, loss=503.8, metric=-8.0882]\n",
     "output_type": "stream"
    },
    {
     "name": "stdout",
     "text": "QuantModel(\n  (fc1): Linear(in_features=9, out_features=512, bias=True)\n  (fc2): Linear(in_features=76800, out_features=512, bias=True)\n  (fc3): Linear(in_features=1024, out_features=512, bias=True)\n  (fc4): Linear(in_features=512, out_features=3, bias=True)\n)\nQuantModel(\n  (fc1): Linear(in_features=9, out_features=512, bias=True)\n  (fc2): Linear(in_features=76800, out_features=512, bias=True)\n  (fc3): Linear(in_features=1024, out_features=512, bias=True)\n  (fc4): Linear(in_features=512, out_features=3, bias=True)\n)\nTraining complete! Time: 0:16:59.675611\n",
     "output_type": "stream"
    }
   ]
  },
  {
   "cell_type": "markdown",
   "source": [
    "# Generating Prediction CSV"
   ],
   "metadata": {}
  },
  {
   "cell_type": "code",
   "source": [
    "data = OSICDataset(\n",
    "    root=dataset,\n",
    "    dicom_dir=dataset/'test',\n",
    "    mode='test',\n",
    "    transform=transforms.Compose([\n",
    "        CropBoundingBox(),\n",
    "        ConvertToHU(),\n",
    "        Resize((40, 256, 256)),\n",
    "        Clip(bounds=(-1000, 500)),\n",
    "        Mask(threshold=-500),\n",
    "        Normalize(bounds=(-1000, -500)),\n",
    "        ToTensor(),\n",
    "        ZeroCenter(pre_calculated_mean=0.029105728564346046)\n",
    "    ]))\n",
    "data.cache(latent_dir)\n",
    "data = OSICDataset(\n",
    "    root=dataset,\n",
    "    dicom_dir=dataset/'test',\n",
    "    cache_dir=None,\n",
    "    mode='test',\n",
    "    transform=GenerateLatentFeatures(autoencoder, latent_dir)\n",
    ")\n",
    "\n",
    "avg_preds = np.zeros((len(data), len(quantiles)))\n",
    "\n",
    "loaded_model = torch.load(model_file)\n",
    "\n",
    "dataloader = DataLoader(data, batch_size=batch_size,\n",
    "                        shuffle=False, num_workers=2)\n",
    "preds = []\n",
    "for batch in tqdm(dataloader):\n",
    "    inputs1 = batch['tabular_features'].float()\n",
    "    inputs2 = batch['latent_features'].float()\n",
    "    with torch.no_grad():\n",
    "        preds.append(loaded_model(inputs1, inputs2))\n",
    "\n",
    "preds = torch.cat(preds, dim=0).numpy()\n",
    "avg_preds += preds\n",
    "\n",
    "avg_preds /= len(models)\n",
    "df = pd.DataFrame(data=avg_preds, columns=list(quantiles))\n",
    "df['Patient_Week'] = data.raw['Patient_Week']\n",
    "df['FVC'] = df[quantiles[1]]\n",
    "df['Confidence'] = df[quantiles[2]] - df[quantiles[0]]\n",
    "df = df.drop(columns=list(quantiles))\n",
    "\n",
    "df.to_csv('predictions.csv', index=False)"
   ],
   "metadata": {
    "execution": {
     "iopub.status.busy": "2023-05-08T20:03:42.227452Z",
     "iopub.execute_input": "2023-05-08T20:03:42.227922Z",
     "iopub.status.idle": "2023-05-08T20:14:25.149633Z",
     "shell.execute_reply.started": "2023-05-08T20:03:42.227879Z",
     "shell.execute_reply": "2023-05-08T20:14:25.148231Z"
    },
    "trusted": true,
    "pycharm": {
     "is_executing": true
    }
   },
   "execution_count": null,
   "outputs": []
  },
  {
   "cell_type": "code",
   "source": [
    "print(len(df))\n",
    "df.head()"
   ],
   "metadata": {
    "execution": {
     "iopub.status.busy": "2023-05-08T19:01:39.549795Z",
     "iopub.status.idle": "2023-05-08T19:01:39.550353Z"
    },
    "trusted": true
   },
   "execution_count": null,
   "outputs": []
  },
  {
   "cell_type": "markdown",
   "source": [
    "# Model Testing and Evaluations"
   ],
   "metadata": {}
  },
  {
   "cell_type": "markdown",
   "source": [
    "## Mean Absolute Error"
   ],
   "metadata": {}
  },
  {
   "cell_type": "code",
   "source": [
    "actualCsv = pd.read_csv(Path(\"models\")/\"actual.csv\")\n",
    "predictionCsv = pd.read_csv(Path(\"models\")/\"predictions.csv\")\n",
    "\n",
    "actual = actualCsv[\"FVC\"].tolist()\n",
    "predicted = predictionCsv[\"FVC\"].tolist()\n",
    "\n",
    "n = len(predicted)\n",
    "summation = len(predicted) + len(actual)\n",
    "\n",
    "# for loop for iteration\n",
    "for i in range(n):\n",
    "    summation += abs(actual[i] - predicted[i])\n",
    "\n",
    "error = summation/n\n",
    "\n",
    "print(\"Mean absolute error : \" + str(error))"
   ],
   "metadata": {
    "execution": {
     "iopub.status.busy": "2023-05-08T20:19:15.450471Z",
     "iopub.execute_input": "2023-05-08T20:19:15.450886Z",
     "iopub.status.idle": "2023-05-08T20:19:15.631209Z",
     "shell.execute_reply.started": "2023-05-08T20:19:15.450851Z",
     "shell.execute_reply": "2023-05-08T20:19:15.630151Z"
    },
    "trusted": true
   },
   "execution_count": 126,
   "outputs": [
    {
     "name": "stdout",
     "output_type": "stream",
     "text": [
      "Mean absolute error : 212.329\n"
     ]
    }
   ]
  },
  {
   "cell_type": "markdown",
   "source": [
    "## Root Mean Square Error"
   ],
   "metadata": {
    "collapsed": false
   }
  },
  {
   "cell_type": "code",
   "execution_count": 125,
   "outputs": [
    {
     "name": "stdout",
     "output_type": "stream",
     "text": [
      "Mean Squared Error 179.3242\n"
     ]
    }
   ],
   "source": [
    "mse = sklearn.metrics.mean_squared_error(actual, predicted)\n",
    "\n",
    "rmse = math.sqrt(mse)\n",
    "\n",
    "print(\"Mean Squared Error\", rmse)"
   ],
   "metadata": {
    "collapsed": false
   }
  },
  {
   "cell_type": "markdown",
   "source": [
    "## Loss Val Graph"
   ],
   "metadata": {
    "collapsed": false
   }
  },
  {
   "cell_type": "code",
   "execution_count": 96,
   "outputs": [
    {
     "data": {
      "text/plain": "<Figure size 640x480 with 1 Axes>",
      "image/png": "[encoded data removed]"
     },
     "metadata": {},
     "output_type": "display_data"
    }
   ],
   "source": [
    "model_info = pd.read_csv(Path(\"models\")/\"prediction-model.csv\")\n",
    "df = pd.read_csv('models/prediction-model.csv', index_col=None)\n",
    "\n",
    "table = df.plot()\n",
    "table.set_title('Learning Curve')\n",
    "table.set_ylabel('Loss')\n",
    "table.set_xlabel('Epochs')\n",
    "plt.show()"
   ],
   "metadata": {
    "collapsed": false
   }
  },
  {
   "cell_type": "code",
   "execution_count": null,
   "outputs": [],
   "source": [],
   "metadata": {
    "collapsed": false
   }
  }
 ]
}
